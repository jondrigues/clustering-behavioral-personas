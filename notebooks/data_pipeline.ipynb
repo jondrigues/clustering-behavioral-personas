{
 "cells": [
  {
   "cell_type": "markdown",
   "id": "6d67a51c",
   "metadata": {},
   "source": [
    "## Data Processing of Banking Dataset (Banco Central)"
   ]
  },
  {
   "cell_type": "markdown",
   "id": "dcbb5790-81a8-4db3-970f-106c166ae9b0",
   "metadata": {},
   "source": [
    "### 1. Requirements\n",
    "Install python libraries dependency for the project"
   ]
  },
  {
   "cell_type": "code",
   "execution_count": null,
   "id": "e0f5b9c3-f559-4e01-bc02-7df4c7090ec8",
   "metadata": {},
   "outputs": [],
   "source": [
    "%pip install unidecode\n",
    "%pip install pandas\n",
    "%pip install numpy\n",
    "%pip install scipy"
   ]
  },
  {
   "cell_type": "markdown",
   "id": "23e669e3",
   "metadata": {},
   "source": [
    "### 2. Import Functions\n",
    "Import etl function of src folder"
   ]
  },
  {
   "cell_type": "code",
   "execution_count": 2,
   "id": "83dae8da-62dc-4759-979b-3b2439ca93bc",
   "metadata": {},
   "outputs": [
    {
     "ename": "ModuleNotFoundError",
     "evalue": "No module named 'sqlalchemy'",
     "output_type": "error",
     "traceback": [
      "\u001b[1;31m---------------------------------------------------------------------------\u001b[0m",
      "\u001b[1;31mModuleNotFoundError\u001b[0m                       Traceback (most recent call last)",
      "\u001b[1;32mc:\\Users\\jonat\\iCloudDrive\\Tech Projects\\USP\\data-engineering-projects\\project-3\\notebooks\\data_pipeline.ipynb Célula: 5\u001b[0m in \u001b[0;36m<cell line: 5>\u001b[1;34m()\u001b[0m\n\u001b[0;32m      <a href='vscode-notebook-cell:/c%3A/Users/jonat/iCloudDrive/Tech%20Projects/USP/data-engineering-projects/project-3/notebooks/data_pipeline.ipynb#ch0000004?line=1'>2</a>\u001b[0m sys\u001b[39m.\u001b[39mpath\u001b[39m.\u001b[39mappend(\u001b[39m'\u001b[39m\u001b[39m../src\u001b[39m\u001b[39m'\u001b[39m)\n\u001b[0;32m      <a href='vscode-notebook-cell:/c%3A/Users/jonat/iCloudDrive/Tech%20Projects/USP/data-engineering-projects/project-3/notebooks/data_pipeline.ipynb#ch0000004?line=3'>4</a>\u001b[0m \u001b[39mfrom\u001b[39;00m \u001b[39mextraction\u001b[39;00m \u001b[39mimport\u001b[39;00m \u001b[39m*\u001b[39m\n\u001b[1;32m----> <a href='vscode-notebook-cell:/c%3A/Users/jonat/iCloudDrive/Tech%20Projects/USP/data-engineering-projects/project-3/notebooks/data_pipeline.ipynb#ch0000004?line=4'>5</a>\u001b[0m \u001b[39mfrom\u001b[39;00m \u001b[39mload\u001b[39;00m \u001b[39mimport\u001b[39;00m \u001b[39m*\u001b[39m\n\u001b[0;32m      <a href='vscode-notebook-cell:/c%3A/Users/jonat/iCloudDrive/Tech%20Projects/USP/data-engineering-projects/project-3/notebooks/data_pipeline.ipynb#ch0000004?line=5'>6</a>\u001b[0m \u001b[39mfrom\u001b[39;00m \u001b[39mtransformation\u001b[39;00m \u001b[39mimport\u001b[39;00m \u001b[39m*\u001b[39m\n\u001b[0;32m      <a href='vscode-notebook-cell:/c%3A/Users/jonat/iCloudDrive/Tech%20Projects/USP/data-engineering-projects/project-3/notebooks/data_pipeline.ipynb#ch0000004?line=6'>7</a>\u001b[0m \u001b[39mfrom\u001b[39;00m \u001b[39mdata_model\u001b[39;00m \u001b[39mimport\u001b[39;00m \u001b[39m*\u001b[39m\n",
      "File \u001b[1;32mc:\\Users\\jonat\\iCloudDrive\\Tech Projects\\USP\\data-engineering-projects\\project-3\\notebooks\\../src\\load.py:2\u001b[0m, in \u001b[0;36m<module>\u001b[1;34m\u001b[0m\n\u001b[0;32m      1\u001b[0m \u001b[39mimport\u001b[39;00m \u001b[39mlogging\u001b[39;00m\n\u001b[1;32m----> 2\u001b[0m \u001b[39mfrom\u001b[39;00m \u001b[39msqlalchemy\u001b[39;00m \u001b[39mimport\u001b[39;00m create_engine\n\u001b[0;32m      4\u001b[0m data_raw_path \u001b[39m=\u001b[39m \u001b[39m\"\u001b[39m\u001b[39m../data/raw/\u001b[39m\u001b[39m\"\u001b[39m\n\u001b[0;32m      5\u001b[0m data_trusted_path \u001b[39m=\u001b[39m \u001b[39m\"\u001b[39m\u001b[39m../data/trusted/\u001b[39m\u001b[39m\"\u001b[39m\n",
      "\u001b[1;31mModuleNotFoundError\u001b[0m: No module named 'sqlalchemy'"
     ]
    }
   ],
   "source": [
    "import sys\n",
    "sys.path.append('../src')\n",
    "\n",
    "from extraction import *\n",
    "from load import *\n",
    "from transformation import *\n",
    "from data_model import *"
   ]
  },
  {
   "cell_type": "markdown",
   "id": "9fa7c3fa-b4af-4a0b-a909-99ff7ddf4edd",
   "metadata": {},
   "source": [
    "### 3. Extracting Data\n",
    "This section aims to extract Bank Information (CSV) and Bank Fees (API) dataset from Banco Central channel and provide it at data raw layer.\n"
   ]
  },
  {
   "cell_type": "markdown",
   "id": "d6286535",
   "metadata": {},
   "source": [
    "3.1 Original Banks Information dataset are splited in csv files by year and period. This section aims to merge the splited files into a colosolidated csv of 2020 to 2021 period."
   ]
  },
  {
   "cell_type": "code",
   "execution_count": null,
   "id": "e5e13db3",
   "metadata": {},
   "outputs": [],
   "source": [
    "bancos_df = merge_bank_info_csv()"
   ]
  },
  {
   "cell_type": "markdown",
   "id": "1d40eb39",
   "metadata": {},
   "source": [
    "3.2 This sections will perform url requests to an API using bank key (CNPJ) as variable parameter. \n",
    "The result of each request is merged into consolidated json which will further trasformed into pandas dataset."
   ]
  },
  {
   "cell_type": "code",
   "execution_count": 7,
   "id": "a6ee4e06",
   "metadata": {},
   "outputs": [],
   "source": [
    "lista_tarifas_df = get_bank_fees_api(bancos_df['CNPJ IF'])"
   ]
  },
  {
   "cell_type": "markdown",
   "id": "aafb6ed4-7d3f-4d33-bac1-f320a50250d2",
   "metadata": {},
   "source": [
    "### 4. Transforming Data\n",
    "In this section it will be performed a data transformation over 'Bank Info'  and 'Bank Fees' dataset to normalize it and for a better data quality by applying outliers exclusion with Z-score. The trasformed data will be available at data trusted layer to further SQL ingestion at Postgress."
   ]
  },
  {
   "cell_type": "markdown",
   "id": "95e46a45",
   "metadata": {},
   "source": [
    "4.1 Normalizing Bank Information dataset (Informações Banco) by applynig colluns normalization, removing accents and coverting texts to lower case."
   ]
  },
  {
   "cell_type": "code",
   "execution_count": 5,
   "id": "f904ca78-d177-434e-94d0-b5cce0610cc1",
   "metadata": {},
   "outputs": [],
   "source": [
    "bancos_df_truted = normalize_bank_info()"
   ]
  },
  {
   "cell_type": "markdown",
   "id": "97f80d3a",
   "metadata": {},
   "source": [
    "4.2 Normalizing Bank Fees dataset (Tarifas Bancos) by aaplying colluns normalization, removing accents, coverting texts to lower case and removing outrliers."
   ]
  },
  {
   "cell_type": "code",
   "execution_count": null,
   "id": "884d0ea9-21c9-4089-939f-a52646cad30b",
   "metadata": {},
   "outputs": [],
   "source": [
    "lista_tarifas_df_trusted = normalize_bank_fees()"
   ]
  },
  {
   "cell_type": "markdown",
   "id": "28439d2a-f3ef-42e0-a69b-cd9e52f38554",
   "metadata": {},
   "source": [
    "### 5. Uploading Data"
   ]
  },
  {
   "cell_type": "code",
   "execution_count": null,
   "id": "913133d9-bdc3-4b2b-9cca-4db6250ff141",
   "metadata": {},
   "outputs": [],
   "source": [
    "db_manager = DatabaseManager()\n",
    "db_manager.create_schema(\"trusted\")"
   ]
  },
  {
   "cell_type": "code",
   "execution_count": null,
   "id": "1b48efb4-ec36-4f23-9b8d-b69218f6d084",
   "metadata": {},
   "outputs": [],
   "source": [
    "db_manager.create_table_with_pandas_df(bancos_df, 'bancos', 'trusted')\n",
    "db_manager.create_table_with_pandas_df(lista_tarifas_df, 'lista_tarifas', 'trusted')"
   ]
  },
  {
   "cell_type": "markdown",
   "id": "9ded3977-526f-4051-9144-a4a549ca68fe",
   "metadata": {},
   "source": [
    "### 6. Generating Multi Dimensional Data Model (Star Schema)"
   ]
  },
  {
   "cell_type": "code",
   "execution_count": null,
   "id": "72f1ea32-9ea9-47c3-baf1-acbd8f73c3d7",
   "metadata": {},
   "outputs": [],
   "source": [
    "create_star_schema(db_manager)"
   ]
  }
 ],
 "metadata": {
  "kernelspec": {
   "display_name": "Python 3 (ipykernel)",
   "language": "python",
   "name": "python3"
  },
  "language_info": {
   "codemirror_mode": {
    "name": "ipython",
    "version": 3
   },
   "file_extension": ".py",
   "mimetype": "text/x-python",
   "name": "python",
   "nbconvert_exporter": "python",
   "pygments_lexer": "ipython3",
   "version": "3.9.10"
  },
  "vscode": {
   "interpreter": {
    "hash": "1a26e4b7189bf03eb81522675f6e6c88684ba722547c6ad443d3676f771c332f"
   }
  }
 },
 "nbformat": 4,
 "nbformat_minor": 5
}
